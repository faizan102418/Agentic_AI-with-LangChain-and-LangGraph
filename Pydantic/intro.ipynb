{
 "cells": [
  {
   "cell_type": "markdown",
   "id": "86181194",
   "metadata": {},
   "source": [
    "## Pydandic Basics : "
   ]
  },
  {
   "cell_type": "code",
   "execution_count": 1,
   "id": "65750389",
   "metadata": {},
   "outputs": [],
   "source": [
    "from pydantic import BaseModel"
   ]
  },
  {
   "cell_type": "code",
   "execution_count": 4,
   "id": "4dcb2057",
   "metadata": {},
   "outputs": [
    {
     "name": "stdout",
     "output_type": "stream",
     "text": [
      "name='Alice' age=30 city='New York'\n"
     ]
    }
   ],
   "source": [
    "class Person(BaseModel):\n",
    "    name: str\n",
    "    age: int\n",
    "    city: str\n",
    "\n",
    "\n",
    "person = Person(name=\"Alice\", age=30, city=\"New York\")\n",
    "print(person)   "
   ]
  },
  {
   "cell_type": "code",
   "execution_count": 6,
   "id": "9f512079",
   "metadata": {},
   "outputs": [
    {
     "name": "stdout",
     "output_type": "stream",
     "text": [
      "Person(name='Bob', age=25, city=123)\n"
     ]
    }
   ],
   "source": [
    "from dataclasses import dataclass\n",
    "\n",
    "@dataclass\n",
    "class Person:\n",
    "    name: str\n",
    "    age: int\n",
    "    city: str\n",
    "person = Person(name=\"Bob\", age=25, city=123)\n",
    "print(person)"
   ]
  },
  {
   "cell_type": "markdown",
   "id": "6574e4fc",
   "metadata": {},
   "source": [
    "## Model With optional fields"
   ]
  },
  {
   "cell_type": "code",
   "execution_count": null,
   "id": "3989f0ae",
   "metadata": {},
   "outputs": [],
   "source": [
    "from typing import Optional\n",
    "class Employee(BaseModel):\n",
    "    id: int\n",
    "    name: str\n",
    "    departement: str\n",
    "    salary: Optional[float] = None\n",
    "    is_active: Optional[bool] = True"
   ]
  },
  {
   "cell_type": "code",
   "execution_count": 9,
   "id": "68568c4a",
   "metadata": {},
   "outputs": [
    {
     "name": "stdout",
     "output_type": "stream",
     "text": [
      "name='Charlie' departement='IT' salary=None is_active=True\n"
     ]
    }
   ],
   "source": [
    "emp1 = Employee(id=1,name=\"Charlie\", departement=\"IT\")\n",
    "print(emp1)"
   ]
  }
 ],
 "metadata": {
  "kernelspec": {
   "display_name": "Python 3",
   "language": "python",
   "name": "python3"
  },
  "language_info": {
   "codemirror_mode": {
    "name": "ipython",
    "version": 3
   },
   "file_extension": ".py",
   "mimetype": "text/x-python",
   "name": "python",
   "nbconvert_exporter": "python",
   "pygments_lexer": "ipython3",
   "version": "3.13.3"
  }
 },
 "nbformat": 4,
 "nbformat_minor": 5
}
